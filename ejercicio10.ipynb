{
 "cells": [
  {
   "cell_type": "code",
   "execution_count": null,
   "metadata": {},
   "outputs": [],
   "source": [
    "archivo_nombres=open(\"nombres_1.txt\",\"r\")\n",
    "\n",
    "archivo_notas_uno=open(\"eval1.txt\",\"r\")\n",
    "\n",
    "archivo_notas_dos=open(\"eval2.txt\",\"r\")\n",
    "\n",
    "lista_nombres=list(archivo_nombres)\n",
    "\n",
    "lista_notas_uno=list(archivo_notas_uno)    \n",
    "\n",
    "lista_notas_dos=list(archivo_notas_dos)\n",
    "\n",
    "notas_finales=[]\n",
    "\n",
    "for nombre,nota1,nota2 in zip(lista_nombres,lista_notas_uno,lista_notas_dos):\n",
    "    notas_finales.append((nombre.strip(\"\\n , '' \").lower().capitalize(),int(nota1.strip(\"\\n , \"))+int(nota2.strip(\"\\n, \"))))\n",
    "\n",
    "#print(len(notas_finales))\n",
    "\n",
    "#print(notas_finales)\n",
    "\n",
    "suma_total_notas=0\n",
    "for tupla in notas_finales:\n",
    "    suma_total_notas+=tupla[1]\n",
    "\n",
    "promedio=suma_total_notas/len(notas_finales)\n",
    "\n",
    "#print(suma_total_notas)\n",
    "\n",
    "#print(promedio)   \n",
    "\n",
    "#lista_debajo_promedio=[]\n",
    "\n",
    "print(\"Los alumnos con nota final por debajo del promedio son:\")\n",
    "for tupla in notas_finales:\n",
    "    if(tupla[1]<promedio):\n",
    "        #lista_debajo_promedio.append(tupla[0])\n",
    "        print(tupla[0])\n",
    "\n",
    "#print(\"La cantidad de alumnos por debajo del promedio es:\",len(lista_debajo_promedio))\n",
    "\n",
    "\n",
    "archivo_nombres.close()\n",
    "\n",
    "archivo_notas_uno.close()\n",
    "\n",
    "archivo_notas_dos.close()\n"
   ]
  },
  {
   "cell_type": "markdown",
   "metadata": {},
   "source": [
    "Primero abro los archivos en modo lectura para trabajar,creo las listas con la informacion de los archivos,despues itero sobre las listas sacando los caracteres que sobran y creo una lista de tuplas donde cada tupla de la lista contiene el nombre del alumno y la suma de las notas de sus dos evaluaciones,por ultimo sumo las notas finales de todos los alumnos,calculo el promedio,imprimo los nombres de los alumnos que tiene nota final menor al promedio y cierro los archivos con los que trabaje. "
   ]
  },
  {
   "cell_type": "markdown",
   "metadata": {},
   "source": []
  }
 ],
 "metadata": {
  "interpreter": {
   "hash": "ff12aaeab7eb4bbe02f14bfff06433fcad1cbb2e83b7d2d017775940a6298de4"
  },
  "kernelspec": {
   "display_name": "Python 3.10.2 64-bit ('3.10.2')",
   "language": "python",
   "name": "python3"
  },
  "language_info": {
   "codemirror_mode": {
    "name": "ipython",
    "version": 3
   },
   "file_extension": ".py",
   "mimetype": "text/x-python",
   "name": "python",
   "nbconvert_exporter": "python",
   "pygments_lexer": "ipython3",
   "version": "3.10.2"
  },
  "orig_nbformat": 4
 },
 "nbformat": 4,
 "nbformat_minor": 2
}
